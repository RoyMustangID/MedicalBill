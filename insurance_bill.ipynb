{
 "cells": [
  {
   "cell_type": "code",
   "execution_count": 1,
   "id": "4425dd8a",
   "metadata": {},
   "outputs": [],
   "source": [
    "import pandas as pd\n",
    "import matplotlib.pyplot as plt\n",
    "import seaborn as sns\n",
    "import numpy as np\n",
    "import scipy.stats as stats\n",
    "\n",
    "import statsmodels.api as sm\n",
    "import statsmodels.stats.proportion as smprop\n",
    "from statsmodels.stats import weightstats as weight\n",
    "\n",
    "insurance = pd.read_csv('insurance.csv')"
   ]
  },
  {
   "cell_type": "code",
   "execution_count": 2,
   "id": "0f38938a",
   "metadata": {},
   "outputs": [
    {
     "data": {
      "text/html": [
       "<div>\n",
       "<style scoped>\n",
       "    .dataframe tbody tr th:only-of-type {\n",
       "        vertical-align: middle;\n",
       "    }\n",
       "\n",
       "    .dataframe tbody tr th {\n",
       "        vertical-align: top;\n",
       "    }\n",
       "\n",
       "    .dataframe thead th {\n",
       "        text-align: right;\n",
       "    }\n",
       "</style>\n",
       "<table border=\"1\" class=\"dataframe\">\n",
       "  <thead>\n",
       "    <tr style=\"text-align: right;\">\n",
       "      <th></th>\n",
       "      <th>age</th>\n",
       "      <th>sex</th>\n",
       "      <th>bmi</th>\n",
       "      <th>children</th>\n",
       "      <th>smoker</th>\n",
       "      <th>region</th>\n",
       "      <th>charges</th>\n",
       "    </tr>\n",
       "  </thead>\n",
       "  <tbody>\n",
       "    <tr>\n",
       "      <th>0</th>\n",
       "      <td>19</td>\n",
       "      <td>female</td>\n",
       "      <td>27.900</td>\n",
       "      <td>0</td>\n",
       "      <td>yes</td>\n",
       "      <td>southwest</td>\n",
       "      <td>16884.92400</td>\n",
       "    </tr>\n",
       "    <tr>\n",
       "      <th>1</th>\n",
       "      <td>18</td>\n",
       "      <td>male</td>\n",
       "      <td>33.770</td>\n",
       "      <td>1</td>\n",
       "      <td>no</td>\n",
       "      <td>southeast</td>\n",
       "      <td>1725.55230</td>\n",
       "    </tr>\n",
       "    <tr>\n",
       "      <th>2</th>\n",
       "      <td>28</td>\n",
       "      <td>male</td>\n",
       "      <td>33.000</td>\n",
       "      <td>3</td>\n",
       "      <td>no</td>\n",
       "      <td>southeast</td>\n",
       "      <td>4449.46200</td>\n",
       "    </tr>\n",
       "    <tr>\n",
       "      <th>3</th>\n",
       "      <td>33</td>\n",
       "      <td>male</td>\n",
       "      <td>22.705</td>\n",
       "      <td>0</td>\n",
       "      <td>no</td>\n",
       "      <td>northwest</td>\n",
       "      <td>21984.47061</td>\n",
       "    </tr>\n",
       "    <tr>\n",
       "      <th>4</th>\n",
       "      <td>32</td>\n",
       "      <td>male</td>\n",
       "      <td>28.880</td>\n",
       "      <td>0</td>\n",
       "      <td>no</td>\n",
       "      <td>northwest</td>\n",
       "      <td>3866.85520</td>\n",
       "    </tr>\n",
       "  </tbody>\n",
       "</table>\n",
       "</div>"
      ],
      "text/plain": [
       "   age     sex     bmi  children smoker     region      charges\n",
       "0   19  female  27.900         0    yes  southwest  16884.92400\n",
       "1   18    male  33.770         1     no  southeast   1725.55230\n",
       "2   28    male  33.000         3     no  southeast   4449.46200\n",
       "3   33    male  22.705         0     no  northwest  21984.47061\n",
       "4   32    male  28.880         0     no  northwest   3866.85520"
      ]
     },
     "execution_count": 2,
     "metadata": {},
     "output_type": "execute_result"
    }
   ],
   "source": [
    "insurance.head()"
   ]
  },
  {
   "cell_type": "markdown",
   "id": "7fbc184f",
   "metadata": {},
   "source": [
    "# 1. Descriptive Statistic"
   ]
  },
  {
   "cell_type": "markdown",
   "id": "6750ad8e",
   "metadata": {},
   "source": [
    "## Mean Charges of Smoker vs Non Smoker"
   ]
  },
  {
   "cell_type": "code",
   "execution_count": 3,
   "id": "58e89cbd",
   "metadata": {},
   "outputs": [
    {
     "data": {
      "text/html": [
       "<div>\n",
       "<style scoped>\n",
       "    .dataframe tbody tr th:only-of-type {\n",
       "        vertical-align: middle;\n",
       "    }\n",
       "\n",
       "    .dataframe tbody tr th {\n",
       "        vertical-align: top;\n",
       "    }\n",
       "\n",
       "    .dataframe thead th {\n",
       "        text-align: right;\n",
       "    }\n",
       "</style>\n",
       "<table border=\"1\" class=\"dataframe\">\n",
       "  <thead>\n",
       "    <tr style=\"text-align: right;\">\n",
       "      <th></th>\n",
       "      <th>charges</th>\n",
       "    </tr>\n",
       "    <tr>\n",
       "      <th>smoker</th>\n",
       "      <th></th>\n",
       "    </tr>\n",
       "  </thead>\n",
       "  <tbody>\n",
       "    <tr>\n",
       "      <th>no</th>\n",
       "      <td>8434.268298</td>\n",
       "    </tr>\n",
       "    <tr>\n",
       "      <th>yes</th>\n",
       "      <td>32050.231832</td>\n",
       "    </tr>\n",
       "  </tbody>\n",
       "</table>\n",
       "</div>"
      ],
      "text/plain": [
       "             charges\n",
       "smoker              \n",
       "no       8434.268298\n",
       "yes     32050.231832"
      ]
     },
     "execution_count": 3,
     "metadata": {},
     "output_type": "execute_result"
    }
   ],
   "source": [
    "insurance.groupby('smoker').agg({'charges' : 'mean'})"
   ]
  },
  {
   "cell_type": "markdown",
   "id": "c8e3f3d3",
   "metadata": {},
   "source": [
    "## Mean Age of Female vs Male (Smoker and Non Smoker)"
   ]
  },
  {
   "cell_type": "code",
   "execution_count": 4,
   "id": "ea3892e8",
   "metadata": {},
   "outputs": [
    {
     "data": {
      "text/html": [
       "<div>\n",
       "<style scoped>\n",
       "    .dataframe tbody tr th:only-of-type {\n",
       "        vertical-align: middle;\n",
       "    }\n",
       "\n",
       "    .dataframe tbody tr th {\n",
       "        vertical-align: top;\n",
       "    }\n",
       "\n",
       "    .dataframe thead th {\n",
       "        text-align: right;\n",
       "    }\n",
       "</style>\n",
       "<table border=\"1\" class=\"dataframe\">\n",
       "  <thead>\n",
       "    <tr style=\"text-align: right;\">\n",
       "      <th></th>\n",
       "      <th></th>\n",
       "      <th>age</th>\n",
       "    </tr>\n",
       "    <tr>\n",
       "      <th>smoker</th>\n",
       "      <th>sex</th>\n",
       "      <th></th>\n",
       "    </tr>\n",
       "  </thead>\n",
       "  <tbody>\n",
       "    <tr>\n",
       "      <th rowspan=\"2\" valign=\"top\">no</th>\n",
       "      <th>female</th>\n",
       "      <td>39.691042</td>\n",
       "    </tr>\n",
       "    <tr>\n",
       "      <th>male</th>\n",
       "      <td>39.061896</td>\n",
       "    </tr>\n",
       "    <tr>\n",
       "      <th rowspan=\"2\" valign=\"top\">yes</th>\n",
       "      <th>female</th>\n",
       "      <td>38.608696</td>\n",
       "    </tr>\n",
       "    <tr>\n",
       "      <th>male</th>\n",
       "      <td>38.446541</td>\n",
       "    </tr>\n",
       "  </tbody>\n",
       "</table>\n",
       "</div>"
      ],
      "text/plain": [
       "                     age\n",
       "smoker sex              \n",
       "no     female  39.691042\n",
       "       male    39.061896\n",
       "yes    female  38.608696\n",
       "       male    38.446541"
      ]
     },
     "execution_count": 4,
     "metadata": {},
     "output_type": "execute_result"
    }
   ],
   "source": [
    "insurance.groupby(['smoker', 'sex']).agg({'age' : 'mean'})\n"
   ]
  },
  {
   "cell_type": "markdown",
   "id": "521bd5a9",
   "metadata": {},
   "source": [
    "## Mean BMI of Smoker vs Non Smoker"
   ]
  },
  {
   "cell_type": "code",
   "execution_count": 5,
   "id": "baa879b4",
   "metadata": {},
   "outputs": [
    {
     "data": {
      "text/html": [
       "<div>\n",
       "<style scoped>\n",
       "    .dataframe tbody tr th:only-of-type {\n",
       "        vertical-align: middle;\n",
       "    }\n",
       "\n",
       "    .dataframe tbody tr th {\n",
       "        vertical-align: top;\n",
       "    }\n",
       "\n",
       "    .dataframe thead th {\n",
       "        text-align: right;\n",
       "    }\n",
       "</style>\n",
       "<table border=\"1\" class=\"dataframe\">\n",
       "  <thead>\n",
       "    <tr style=\"text-align: right;\">\n",
       "      <th></th>\n",
       "      <th>bmi</th>\n",
       "    </tr>\n",
       "    <tr>\n",
       "      <th>smoker</th>\n",
       "      <th></th>\n",
       "    </tr>\n",
       "  </thead>\n",
       "  <tbody>\n",
       "    <tr>\n",
       "      <th>no</th>\n",
       "      <td>30.651795</td>\n",
       "    </tr>\n",
       "    <tr>\n",
       "      <th>yes</th>\n",
       "      <td>30.708449</td>\n",
       "    </tr>\n",
       "  </tbody>\n",
       "</table>\n",
       "</div>"
      ],
      "text/plain": [
       "              bmi\n",
       "smoker           \n",
       "no      30.651795\n",
       "yes     30.708449"
      ]
     },
     "execution_count": 5,
     "metadata": {},
     "output_type": "execute_result"
    }
   ],
   "source": [
    "insurance.groupby('smoker').agg({'bmi' : 'mean'})"
   ]
  },
  {
   "cell_type": "markdown",
   "id": "11052e15",
   "metadata": {},
   "source": [
    "## Mean Charges of Male vs Female"
   ]
  },
  {
   "cell_type": "code",
   "execution_count": 6,
   "id": "79283fe7",
   "metadata": {},
   "outputs": [
    {
     "data": {
      "text/html": [
       "<div>\n",
       "<style scoped>\n",
       "    .dataframe tbody tr th:only-of-type {\n",
       "        vertical-align: middle;\n",
       "    }\n",
       "\n",
       "    .dataframe tbody tr th {\n",
       "        vertical-align: top;\n",
       "    }\n",
       "\n",
       "    .dataframe thead th {\n",
       "        text-align: right;\n",
       "    }\n",
       "</style>\n",
       "<table border=\"1\" class=\"dataframe\">\n",
       "  <thead>\n",
       "    <tr style=\"text-align: right;\">\n",
       "      <th></th>\n",
       "      <th>charges</th>\n",
       "    </tr>\n",
       "    <tr>\n",
       "      <th>sex</th>\n",
       "      <th></th>\n",
       "    </tr>\n",
       "  </thead>\n",
       "  <tbody>\n",
       "    <tr>\n",
       "      <th>female</th>\n",
       "      <td>12569.578844</td>\n",
       "    </tr>\n",
       "    <tr>\n",
       "      <th>male</th>\n",
       "      <td>13956.751178</td>\n",
       "    </tr>\n",
       "  </tbody>\n",
       "</table>\n",
       "</div>"
      ],
      "text/plain": [
       "             charges\n",
       "sex                 \n",
       "female  12569.578844\n",
       "male    13956.751178"
      ]
     },
     "execution_count": 6,
     "metadata": {},
     "output_type": "execute_result"
    }
   ],
   "source": [
    "insurance.groupby('sex').agg({'charges' : 'mean'})"
   ]
  },
  {
   "cell_type": "markdown",
   "id": "2bc76410",
   "metadata": {},
   "source": [
    "## Mean Charges of Every Region"
   ]
  },
  {
   "cell_type": "code",
   "execution_count": 7,
   "id": "d2fe7ed6",
   "metadata": {},
   "outputs": [
    {
     "data": {
      "text/html": [
       "<div>\n",
       "<style scoped>\n",
       "    .dataframe tbody tr th:only-of-type {\n",
       "        vertical-align: middle;\n",
       "    }\n",
       "\n",
       "    .dataframe tbody tr th {\n",
       "        vertical-align: top;\n",
       "    }\n",
       "\n",
       "    .dataframe thead th {\n",
       "        text-align: right;\n",
       "    }\n",
       "</style>\n",
       "<table border=\"1\" class=\"dataframe\">\n",
       "  <thead>\n",
       "    <tr style=\"text-align: right;\">\n",
       "      <th></th>\n",
       "      <th>charges</th>\n",
       "    </tr>\n",
       "    <tr>\n",
       "      <th>region</th>\n",
       "      <th></th>\n",
       "    </tr>\n",
       "  </thead>\n",
       "  <tbody>\n",
       "    <tr>\n",
       "      <th>northeast</th>\n",
       "      <td>13406.384516</td>\n",
       "    </tr>\n",
       "    <tr>\n",
       "      <th>northwest</th>\n",
       "      <td>12417.575374</td>\n",
       "    </tr>\n",
       "    <tr>\n",
       "      <th>southeast</th>\n",
       "      <td>14735.411438</td>\n",
       "    </tr>\n",
       "    <tr>\n",
       "      <th>southwest</th>\n",
       "      <td>12346.937377</td>\n",
       "    </tr>\n",
       "  </tbody>\n",
       "</table>\n",
       "</div>"
      ],
      "text/plain": [
       "                charges\n",
       "region                 \n",
       "northeast  13406.384516\n",
       "northwest  12417.575374\n",
       "southeast  14735.411438\n",
       "southwest  12346.937377"
      ]
     },
     "execution_count": 7,
     "metadata": {},
     "output_type": "execute_result"
    }
   ],
   "source": [
    "insurance.groupby('region').agg({'charges' : 'mean'})"
   ]
  },
  {
   "cell_type": "markdown",
   "id": "34436c85",
   "metadata": {},
   "source": [
    "# 2. Discrete Variable"
   ]
  },
  {
   "cell_type": "markdown",
   "id": "b061d694",
   "metadata": {},
   "source": [
    "## Data of each region"
   ]
  },
  {
   "cell_type": "code",
   "execution_count": 8,
   "id": "0dfc7a30",
   "metadata": {},
   "outputs": [
    {
     "data": {
      "text/html": [
       "<div>\n",
       "<style scoped>\n",
       "    .dataframe tbody tr th:only-of-type {\n",
       "        vertical-align: middle;\n",
       "    }\n",
       "\n",
       "    .dataframe tbody tr th {\n",
       "        vertical-align: top;\n",
       "    }\n",
       "\n",
       "    .dataframe thead th {\n",
       "        text-align: right;\n",
       "    }\n",
       "</style>\n",
       "<table border=\"1\" class=\"dataframe\">\n",
       "  <thead>\n",
       "    <tr style=\"text-align: right;\">\n",
       "      <th></th>\n",
       "      <th>charges</th>\n",
       "    </tr>\n",
       "    <tr>\n",
       "      <th>region</th>\n",
       "      <th></th>\n",
       "    </tr>\n",
       "  </thead>\n",
       "  <tbody>\n",
       "    <tr>\n",
       "      <th>northeast</th>\n",
       "      <td>324</td>\n",
       "    </tr>\n",
       "    <tr>\n",
       "      <th>northwest</th>\n",
       "      <td>325</td>\n",
       "    </tr>\n",
       "    <tr>\n",
       "      <th>southeast</th>\n",
       "      <td>364</td>\n",
       "    </tr>\n",
       "    <tr>\n",
       "      <th>southwest</th>\n",
       "      <td>325</td>\n",
       "    </tr>\n",
       "  </tbody>\n",
       "</table>\n",
       "</div>"
      ],
      "text/plain": [
       "           charges\n",
       "region            \n",
       "northeast      324\n",
       "northwest      325\n",
       "southeast      364\n",
       "southwest      325"
      ]
     },
     "execution_count": 8,
     "metadata": {},
     "output_type": "execute_result"
    }
   ],
   "source": [
    "insurance.groupby('region').agg({'charges' : 'count'})"
   ]
  },
  {
   "cell_type": "markdown",
   "id": "d1442bb8",
   "metadata": {},
   "source": [
    "## Smoker vs Non Smoker data"
   ]
  },
  {
   "cell_type": "code",
   "execution_count": 9,
   "id": "c439e121",
   "metadata": {},
   "outputs": [
    {
     "data": {
      "text/html": [
       "<div>\n",
       "<style scoped>\n",
       "    .dataframe tbody tr th:only-of-type {\n",
       "        vertical-align: middle;\n",
       "    }\n",
       "\n",
       "    .dataframe tbody tr th {\n",
       "        vertical-align: top;\n",
       "    }\n",
       "\n",
       "    .dataframe thead th {\n",
       "        text-align: right;\n",
       "    }\n",
       "</style>\n",
       "<table border=\"1\" class=\"dataframe\">\n",
       "  <thead>\n",
       "    <tr style=\"text-align: right;\">\n",
       "      <th></th>\n",
       "      <th>charges</th>\n",
       "    </tr>\n",
       "    <tr>\n",
       "      <th>smoker</th>\n",
       "      <th></th>\n",
       "    </tr>\n",
       "  </thead>\n",
       "  <tbody>\n",
       "    <tr>\n",
       "      <th>no</th>\n",
       "      <td>1064</td>\n",
       "    </tr>\n",
       "    <tr>\n",
       "      <th>yes</th>\n",
       "      <td>274</td>\n",
       "    </tr>\n",
       "  </tbody>\n",
       "</table>\n",
       "</div>"
      ],
      "text/plain": [
       "        charges\n",
       "smoker         \n",
       "no         1064\n",
       "yes         274"
      ]
     },
     "execution_count": 9,
     "metadata": {},
     "output_type": "execute_result"
    }
   ],
   "source": [
    "insurance.groupby('smoker').agg({'charges' : 'count'})"
   ]
  },
  {
   "cell_type": "markdown",
   "id": "7513d98f",
   "metadata": {},
   "source": [
    "## Probability they were a female if they were a smoker"
   ]
  },
  {
   "cell_type": "code",
   "execution_count": 10,
   "id": "a29be9fe",
   "metadata": {},
   "outputs": [
    {
     "data": {
      "text/html": [
       "<div>\n",
       "<style scoped>\n",
       "    .dataframe tbody tr th:only-of-type {\n",
       "        vertical-align: middle;\n",
       "    }\n",
       "\n",
       "    .dataframe tbody tr th {\n",
       "        vertical-align: top;\n",
       "    }\n",
       "\n",
       "    .dataframe thead th {\n",
       "        text-align: right;\n",
       "    }\n",
       "</style>\n",
       "<table border=\"1\" class=\"dataframe\">\n",
       "  <thead>\n",
       "    <tr style=\"text-align: right;\">\n",
       "      <th></th>\n",
       "      <th></th>\n",
       "      <th>charges</th>\n",
       "    </tr>\n",
       "    <tr>\n",
       "      <th>smoker</th>\n",
       "      <th>sex</th>\n",
       "      <th></th>\n",
       "    </tr>\n",
       "  </thead>\n",
       "  <tbody>\n",
       "    <tr>\n",
       "      <th rowspan=\"2\" valign=\"top\">no</th>\n",
       "      <th>female</th>\n",
       "      <td>547</td>\n",
       "    </tr>\n",
       "    <tr>\n",
       "      <th>male</th>\n",
       "      <td>517</td>\n",
       "    </tr>\n",
       "    <tr>\n",
       "      <th rowspan=\"2\" valign=\"top\">yes</th>\n",
       "      <th>female</th>\n",
       "      <td>115</td>\n",
       "    </tr>\n",
       "    <tr>\n",
       "      <th>male</th>\n",
       "      <td>159</td>\n",
       "    </tr>\n",
       "  </tbody>\n",
       "</table>\n",
       "</div>"
      ],
      "text/plain": [
       "               charges\n",
       "smoker sex            \n",
       "no     female      547\n",
       "       male        517\n",
       "yes    female      115\n",
       "       male        159"
      ]
     },
     "execution_count": 10,
     "metadata": {},
     "output_type": "execute_result"
    }
   ],
   "source": [
    "insurance.groupby(['smoker', 'sex']).agg({'charges' : 'count'})\n"
   ]
  },
  {
   "cell_type": "markdown",
   "id": "fc976072",
   "metadata": {},
   "source": [
    "## Probability they were a smoker if they were a male"
   ]
  },
  {
   "cell_type": "code",
   "execution_count": 11,
   "id": "56548ab5",
   "metadata": {},
   "outputs": [
    {
     "data": {
      "text/html": [
       "<div>\n",
       "<style scoped>\n",
       "    .dataframe tbody tr th:only-of-type {\n",
       "        vertical-align: middle;\n",
       "    }\n",
       "\n",
       "    .dataframe tbody tr th {\n",
       "        vertical-align: top;\n",
       "    }\n",
       "\n",
       "    .dataframe thead th {\n",
       "        text-align: right;\n",
       "    }\n",
       "</style>\n",
       "<table border=\"1\" class=\"dataframe\">\n",
       "  <thead>\n",
       "    <tr style=\"text-align: right;\">\n",
       "      <th></th>\n",
       "      <th></th>\n",
       "      <th>charges</th>\n",
       "    </tr>\n",
       "    <tr>\n",
       "      <th>sex</th>\n",
       "      <th>smoker</th>\n",
       "      <th></th>\n",
       "    </tr>\n",
       "  </thead>\n",
       "  <tbody>\n",
       "    <tr>\n",
       "      <th rowspan=\"2\" valign=\"top\">female</th>\n",
       "      <th>no</th>\n",
       "      <td>547</td>\n",
       "    </tr>\n",
       "    <tr>\n",
       "      <th>yes</th>\n",
       "      <td>115</td>\n",
       "    </tr>\n",
       "    <tr>\n",
       "      <th rowspan=\"2\" valign=\"top\">male</th>\n",
       "      <th>no</th>\n",
       "      <td>517</td>\n",
       "    </tr>\n",
       "    <tr>\n",
       "      <th>yes</th>\n",
       "      <td>159</td>\n",
       "    </tr>\n",
       "  </tbody>\n",
       "</table>\n",
       "</div>"
      ],
      "text/plain": [
       "               charges\n",
       "sex    smoker         \n",
       "female no          547\n",
       "       yes         115\n",
       "male   no          517\n",
       "       yes         159"
      ]
     },
     "execution_count": 11,
     "metadata": {},
     "output_type": "execute_result"
    }
   ],
   "source": [
    "insurance.groupby(['sex', 'smoker']).agg({'charges' : 'count'})\n"
   ]
  },
  {
   "cell_type": "markdown",
   "id": "a7222d57",
   "metadata": {},
   "source": [
    "## Probability they had 2 or more children if they were a smoker"
   ]
  },
  {
   "cell_type": "code",
   "execution_count": 12,
   "id": "7e4b2383",
   "metadata": {},
   "outputs": [
    {
     "data": {
      "text/html": [
       "<div>\n",
       "<style scoped>\n",
       "    .dataframe tbody tr th:only-of-type {\n",
       "        vertical-align: middle;\n",
       "    }\n",
       "\n",
       "    .dataframe tbody tr th {\n",
       "        vertical-align: top;\n",
       "    }\n",
       "\n",
       "    .dataframe thead th {\n",
       "        text-align: right;\n",
       "    }\n",
       "</style>\n",
       "<table border=\"1\" class=\"dataframe\">\n",
       "  <thead>\n",
       "    <tr style=\"text-align: right;\">\n",
       "      <th></th>\n",
       "      <th></th>\n",
       "      <th>charges</th>\n",
       "    </tr>\n",
       "    <tr>\n",
       "      <th>smoker</th>\n",
       "      <th>children</th>\n",
       "      <th></th>\n",
       "    </tr>\n",
       "  </thead>\n",
       "  <tbody>\n",
       "    <tr>\n",
       "      <th rowspan=\"6\" valign=\"top\">no</th>\n",
       "      <th>0</th>\n",
       "      <td>459</td>\n",
       "    </tr>\n",
       "    <tr>\n",
       "      <th>1</th>\n",
       "      <td>263</td>\n",
       "    </tr>\n",
       "    <tr>\n",
       "      <th>2</th>\n",
       "      <td>185</td>\n",
       "    </tr>\n",
       "    <tr>\n",
       "      <th>3</th>\n",
       "      <td>118</td>\n",
       "    </tr>\n",
       "    <tr>\n",
       "      <th>4</th>\n",
       "      <td>22</td>\n",
       "    </tr>\n",
       "    <tr>\n",
       "      <th>5</th>\n",
       "      <td>17</td>\n",
       "    </tr>\n",
       "    <tr>\n",
       "      <th rowspan=\"6\" valign=\"top\">yes</th>\n",
       "      <th>0</th>\n",
       "      <td>115</td>\n",
       "    </tr>\n",
       "    <tr>\n",
       "      <th>1</th>\n",
       "      <td>61</td>\n",
       "    </tr>\n",
       "    <tr>\n",
       "      <th>2</th>\n",
       "      <td>55</td>\n",
       "    </tr>\n",
       "    <tr>\n",
       "      <th>3</th>\n",
       "      <td>39</td>\n",
       "    </tr>\n",
       "    <tr>\n",
       "      <th>4</th>\n",
       "      <td>3</td>\n",
       "    </tr>\n",
       "    <tr>\n",
       "      <th>5</th>\n",
       "      <td>1</td>\n",
       "    </tr>\n",
       "  </tbody>\n",
       "</table>\n",
       "</div>"
      ],
      "text/plain": [
       "                 charges\n",
       "smoker children         \n",
       "no     0             459\n",
       "       1             263\n",
       "       2             185\n",
       "       3             118\n",
       "       4              22\n",
       "       5              17\n",
       "yes    0             115\n",
       "       1              61\n",
       "       2              55\n",
       "       3              39\n",
       "       4               3\n",
       "       5               1"
      ]
     },
     "execution_count": 12,
     "metadata": {},
     "output_type": "execute_result"
    }
   ],
   "source": [
    "insurance.groupby(['smoker', 'children']).agg({'charges' : 'count'})\n"
   ]
  },
  {
   "cell_type": "markdown",
   "id": "ec7a953e",
   "metadata": {},
   "source": [
    "# 3. Continue Variable"
   ]
  },
  {
   "cell_type": "code",
   "execution_count": 55,
   "id": "b3c83947",
   "metadata": {},
   "outputs": [],
   "source": [
    "insurance['overweight'] = np.where(insurance['bmi'] >= 25 , 'overweight', 'normal')"
   ]
  },
  {
   "cell_type": "code",
   "execution_count": 56,
   "id": "f1b9b6c8",
   "metadata": {},
   "outputs": [],
   "source": [
    "insurance_high_charge = insurance[insurance['charges'] > 16700]\n",
    "insurance_high_charge.reset_index(inplace = True)"
   ]
  },
  {
   "cell_type": "code",
   "execution_count": 57,
   "id": "150e9f54",
   "metadata": {},
   "outputs": [
    {
     "data": {
      "text/html": [
       "<div>\n",
       "<style scoped>\n",
       "    .dataframe tbody tr th:only-of-type {\n",
       "        vertical-align: middle;\n",
       "    }\n",
       "\n",
       "    .dataframe tbody tr th {\n",
       "        vertical-align: top;\n",
       "    }\n",
       "\n",
       "    .dataframe thead th {\n",
       "        text-align: right;\n",
       "    }\n",
       "</style>\n",
       "<table border=\"1\" class=\"dataframe\">\n",
       "  <thead>\n",
       "    <tr style=\"text-align: right;\">\n",
       "      <th></th>\n",
       "      <th>index</th>\n",
       "      <th>age</th>\n",
       "      <th>sex</th>\n",
       "      <th>bmi</th>\n",
       "      <th>children</th>\n",
       "      <th>smoker</th>\n",
       "      <th>region</th>\n",
       "      <th>charges</th>\n",
       "      <th>overweight</th>\n",
       "    </tr>\n",
       "  </thead>\n",
       "  <tbody>\n",
       "    <tr>\n",
       "      <th>0</th>\n",
       "      <td>0</td>\n",
       "      <td>19</td>\n",
       "      <td>female</td>\n",
       "      <td>27.900</td>\n",
       "      <td>0</td>\n",
       "      <td>yes</td>\n",
       "      <td>southwest</td>\n",
       "      <td>16884.92400</td>\n",
       "      <td>overweight</td>\n",
       "    </tr>\n",
       "    <tr>\n",
       "      <th>1</th>\n",
       "      <td>3</td>\n",
       "      <td>33</td>\n",
       "      <td>male</td>\n",
       "      <td>22.705</td>\n",
       "      <td>0</td>\n",
       "      <td>no</td>\n",
       "      <td>northwest</td>\n",
       "      <td>21984.47061</td>\n",
       "      <td>normal</td>\n",
       "    </tr>\n",
       "    <tr>\n",
       "      <th>2</th>\n",
       "      <td>9</td>\n",
       "      <td>60</td>\n",
       "      <td>female</td>\n",
       "      <td>25.840</td>\n",
       "      <td>0</td>\n",
       "      <td>no</td>\n",
       "      <td>northwest</td>\n",
       "      <td>28923.13692</td>\n",
       "      <td>overweight</td>\n",
       "    </tr>\n",
       "    <tr>\n",
       "      <th>3</th>\n",
       "      <td>11</td>\n",
       "      <td>62</td>\n",
       "      <td>female</td>\n",
       "      <td>26.290</td>\n",
       "      <td>0</td>\n",
       "      <td>yes</td>\n",
       "      <td>southeast</td>\n",
       "      <td>27808.72510</td>\n",
       "      <td>overweight</td>\n",
       "    </tr>\n",
       "    <tr>\n",
       "      <th>4</th>\n",
       "      <td>14</td>\n",
       "      <td>27</td>\n",
       "      <td>male</td>\n",
       "      <td>42.130</td>\n",
       "      <td>0</td>\n",
       "      <td>yes</td>\n",
       "      <td>southeast</td>\n",
       "      <td>39611.75770</td>\n",
       "      <td>overweight</td>\n",
       "    </tr>\n",
       "    <tr>\n",
       "      <th>...</th>\n",
       "      <td>...</td>\n",
       "      <td>...</td>\n",
       "      <td>...</td>\n",
       "      <td>...</td>\n",
       "      <td>...</td>\n",
       "      <td>...</td>\n",
       "      <td>...</td>\n",
       "      <td>...</td>\n",
       "      <td>...</td>\n",
       "    </tr>\n",
       "    <tr>\n",
       "      <th>329</th>\n",
       "      <td>1318</td>\n",
       "      <td>35</td>\n",
       "      <td>male</td>\n",
       "      <td>39.710</td>\n",
       "      <td>4</td>\n",
       "      <td>no</td>\n",
       "      <td>northeast</td>\n",
       "      <td>19496.71917</td>\n",
       "      <td>overweight</td>\n",
       "    </tr>\n",
       "    <tr>\n",
       "      <th>330</th>\n",
       "      <td>1321</td>\n",
       "      <td>62</td>\n",
       "      <td>male</td>\n",
       "      <td>26.695</td>\n",
       "      <td>0</td>\n",
       "      <td>yes</td>\n",
       "      <td>northeast</td>\n",
       "      <td>28101.33305</td>\n",
       "      <td>overweight</td>\n",
       "    </tr>\n",
       "    <tr>\n",
       "      <th>331</th>\n",
       "      <td>1323</td>\n",
       "      <td>42</td>\n",
       "      <td>female</td>\n",
       "      <td>40.370</td>\n",
       "      <td>2</td>\n",
       "      <td>yes</td>\n",
       "      <td>southeast</td>\n",
       "      <td>43896.37630</td>\n",
       "      <td>overweight</td>\n",
       "    </tr>\n",
       "    <tr>\n",
       "      <th>332</th>\n",
       "      <td>1328</td>\n",
       "      <td>23</td>\n",
       "      <td>female</td>\n",
       "      <td>24.225</td>\n",
       "      <td>2</td>\n",
       "      <td>no</td>\n",
       "      <td>northeast</td>\n",
       "      <td>22395.74424</td>\n",
       "      <td>normal</td>\n",
       "    </tr>\n",
       "    <tr>\n",
       "      <th>333</th>\n",
       "      <td>1337</td>\n",
       "      <td>61</td>\n",
       "      <td>female</td>\n",
       "      <td>29.070</td>\n",
       "      <td>0</td>\n",
       "      <td>yes</td>\n",
       "      <td>northwest</td>\n",
       "      <td>29141.36030</td>\n",
       "      <td>overweight</td>\n",
       "    </tr>\n",
       "  </tbody>\n",
       "</table>\n",
       "<p>334 rows × 9 columns</p>\n",
       "</div>"
      ],
      "text/plain": [
       "     index  age     sex     bmi  children smoker     region      charges  \\\n",
       "0        0   19  female  27.900         0    yes  southwest  16884.92400   \n",
       "1        3   33    male  22.705         0     no  northwest  21984.47061   \n",
       "2        9   60  female  25.840         0     no  northwest  28923.13692   \n",
       "3       11   62  female  26.290         0    yes  southeast  27808.72510   \n",
       "4       14   27    male  42.130         0    yes  southeast  39611.75770   \n",
       "..     ...  ...     ...     ...       ...    ...        ...          ...   \n",
       "329   1318   35    male  39.710         4     no  northeast  19496.71917   \n",
       "330   1321   62    male  26.695         0    yes  northeast  28101.33305   \n",
       "331   1323   42  female  40.370         2    yes  southeast  43896.37630   \n",
       "332   1328   23  female  24.225         2     no  northeast  22395.74424   \n",
       "333   1337   61  female  29.070         0    yes  northwest  29141.36030   \n",
       "\n",
       "     overweight  \n",
       "0    overweight  \n",
       "1        normal  \n",
       "2    overweight  \n",
       "3    overweight  \n",
       "4    overweight  \n",
       "..          ...  \n",
       "329  overweight  \n",
       "330  overweight  \n",
       "331  overweight  \n",
       "332      normal  \n",
       "333  overweight  \n",
       "\n",
       "[334 rows x 9 columns]"
      ]
     },
     "execution_count": 57,
     "metadata": {},
     "output_type": "execute_result"
    }
   ],
   "source": [
    "insurance_high_charge"
   ]
  },
  {
   "cell_type": "markdown",
   "id": "95a840e5",
   "metadata": {},
   "source": [
    "## Normal Weight vs Overweight charged high bill"
   ]
  },
  {
   "cell_type": "code",
   "execution_count": 58,
   "id": "7fd1b768",
   "metadata": {},
   "outputs": [
    {
     "data": {
      "text/html": [
       "<div>\n",
       "<style scoped>\n",
       "    .dataframe tbody tr th:only-of-type {\n",
       "        vertical-align: middle;\n",
       "    }\n",
       "\n",
       "    .dataframe tbody tr th {\n",
       "        vertical-align: top;\n",
       "    }\n",
       "\n",
       "    .dataframe thead th {\n",
       "        text-align: right;\n",
       "    }\n",
       "</style>\n",
       "<table border=\"1\" class=\"dataframe\">\n",
       "  <thead>\n",
       "    <tr style=\"text-align: right;\">\n",
       "      <th></th>\n",
       "      <th>charges</th>\n",
       "    </tr>\n",
       "    <tr>\n",
       "      <th>overweight</th>\n",
       "      <th></th>\n",
       "    </tr>\n",
       "  </thead>\n",
       "  <tbody>\n",
       "    <tr>\n",
       "      <th>normal</th>\n",
       "      <td>51</td>\n",
       "    </tr>\n",
       "    <tr>\n",
       "      <th>overweight</th>\n",
       "      <td>283</td>\n",
       "    </tr>\n",
       "  </tbody>\n",
       "</table>\n",
       "</div>"
      ],
      "text/plain": [
       "            charges\n",
       "overweight         \n",
       "normal           51\n",
       "overweight      283"
      ]
     },
     "execution_count": 58,
     "metadata": {},
     "output_type": "execute_result"
    }
   ],
   "source": [
    "insurance_high_charge.groupby(['overweight']).agg({'charges' : 'count'})"
   ]
  },
  {
   "cell_type": "markdown",
   "id": "496c36d0",
   "metadata": {},
   "source": [
    "## Overweight Smoker vs Overweight non Smoker charged high bill"
   ]
  },
  {
   "cell_type": "code",
   "execution_count": 59,
   "id": "1b0ed96d",
   "metadata": {},
   "outputs": [
    {
     "data": {
      "text/html": [
       "<div>\n",
       "<style scoped>\n",
       "    .dataframe tbody tr th:only-of-type {\n",
       "        vertical-align: middle;\n",
       "    }\n",
       "\n",
       "    .dataframe tbody tr th {\n",
       "        vertical-align: top;\n",
       "    }\n",
       "\n",
       "    .dataframe thead th {\n",
       "        text-align: right;\n",
       "    }\n",
       "</style>\n",
       "<table border=\"1\" class=\"dataframe\">\n",
       "  <thead>\n",
       "    <tr style=\"text-align: right;\">\n",
       "      <th></th>\n",
       "      <th></th>\n",
       "      <th>charges</th>\n",
       "    </tr>\n",
       "    <tr>\n",
       "      <th>overweight</th>\n",
       "      <th>smoker</th>\n",
       "      <th></th>\n",
       "    </tr>\n",
       "  </thead>\n",
       "  <tbody>\n",
       "    <tr>\n",
       "      <th rowspan=\"2\" valign=\"top\">normal</th>\n",
       "      <th>no</th>\n",
       "      <td>12</td>\n",
       "    </tr>\n",
       "    <tr>\n",
       "      <th>yes</th>\n",
       "      <td>39</td>\n",
       "    </tr>\n",
       "    <tr>\n",
       "      <th rowspan=\"2\" valign=\"top\">overweight</th>\n",
       "      <th>no</th>\n",
       "      <td>68</td>\n",
       "    </tr>\n",
       "    <tr>\n",
       "      <th>yes</th>\n",
       "      <td>215</td>\n",
       "    </tr>\n",
       "  </tbody>\n",
       "</table>\n",
       "</div>"
      ],
      "text/plain": [
       "                   charges\n",
       "overweight smoker         \n",
       "normal     no           12\n",
       "           yes          39\n",
       "overweight no           68\n",
       "           yes         215"
      ]
     },
     "execution_count": 59,
     "metadata": {},
     "output_type": "execute_result"
    }
   ],
   "source": [
    "insurance_high_charge.groupby(['overweight', 'smoker']).agg({'charges' : 'count'})"
   ]
  },
  {
   "cell_type": "markdown",
   "id": "8e25cda1",
   "metadata": {},
   "source": [
    "# 4. Correlation of Variable"
   ]
  },
  {
   "cell_type": "markdown",
   "id": "4d31a9fc",
   "metadata": {},
   "source": [
    "## BMI vs Charged Bill"
   ]
  },
  {
   "cell_type": "code",
   "execution_count": 18,
   "id": "ce684d89",
   "metadata": {},
   "outputs": [
    {
     "data": {
      "text/plain": [
       "Text(0, 0.5, 'Charge')"
      ]
     },
     "execution_count": 18,
     "metadata": {},
     "output_type": "execute_result"
    },
    {
     "data": {
      "image/png": "[encoded data removed]",
      "text/plain": [
       "<Figure size 640x480 with 1 Axes>"
      ]
     },
     "metadata": {},
     "output_type": "display_data"
    }
   ],
   "source": [
    "sns.set_style('whitegrid')\n",
    "bmi_charges = sns.scatterplot(data=insurance, x='bmi', y='charges')\n",
    "plt.xlabel(\"BMI Index\")\n",
    "plt.ylabel(\"Charge\")"
   ]
  },
  {
   "cell_type": "code",
   "execution_count": 19,
   "id": "01b8f1ab",
   "metadata": {},
   "outputs": [
    {
     "data": {
      "text/plain": [
       "array([[3.71878836e+01, 1.46473044e+04],\n",
       "       [1.46473044e+04, 1.46652372e+08]])"
      ]
     },
     "execution_count": 19,
     "metadata": {},
     "output_type": "execute_result"
    }
   ],
   "source": [
    "np.cov(insurance['bmi'], insurance['charges'])"
   ]
  },
  {
   "cell_type": "code",
   "execution_count": 20,
   "id": "145780e3",
   "metadata": {},
   "outputs": [
    {
     "data": {
      "text/html": [
       "<div>\n",
       "<style scoped>\n",
       "    .dataframe tbody tr th:only-of-type {\n",
       "        vertical-align: middle;\n",
       "    }\n",
       "\n",
       "    .dataframe tbody tr th {\n",
       "        vertical-align: top;\n",
       "    }\n",
       "\n",
       "    .dataframe thead th {\n",
       "        text-align: right;\n",
       "    }\n",
       "</style>\n",
       "<table border=\"1\" class=\"dataframe\">\n",
       "  <thead>\n",
       "    <tr style=\"text-align: right;\">\n",
       "      <th></th>\n",
       "      <th>bmi</th>\n",
       "      <th>charges</th>\n",
       "    </tr>\n",
       "  </thead>\n",
       "  <tbody>\n",
       "    <tr>\n",
       "      <th>bmi</th>\n",
       "      <td>1.000000</td>\n",
       "      <td>0.198341</td>\n",
       "    </tr>\n",
       "    <tr>\n",
       "      <th>charges</th>\n",
       "      <td>0.198341</td>\n",
       "      <td>1.000000</td>\n",
       "    </tr>\n",
       "  </tbody>\n",
       "</table>\n",
       "</div>"
      ],
      "text/plain": [
       "              bmi   charges\n",
       "bmi      1.000000  0.198341\n",
       "charges  0.198341  1.000000"
      ]
     },
     "execution_count": 20,
     "metadata": {},
     "output_type": "execute_result"
    }
   ],
   "source": [
    "insurance[['bmi', 'charges']].corr()"
   ]
  },
  {
   "cell_type": "markdown",
   "id": "b2eb8814",
   "metadata": {},
   "source": [
    "## Age vs Charged Bill"
   ]
  },
  {
   "cell_type": "code",
   "execution_count": 21,
   "id": "93f88014",
   "metadata": {},
   "outputs": [
    {
     "data": {
      "image/png": "[encoded data removed]",
      "text/plain": [
       "<Figure size 640x480 with 1 Axes>"
      ]
     },
     "metadata": {},
     "output_type": "display_data"
    }
   ],
   "source": [
    "sns.set_style('whitegrid')\n",
    "age_charges = sns.scatterplot(data=insurance, x='age', y='charges')"
   ]
  },
  {
   "cell_type": "code",
   "execution_count": 22,
   "id": "7dd16612",
   "metadata": {},
   "outputs": [
    {
     "data": {
      "text/plain": [
       "array([[1.97401387e+02, 5.08748023e+04],\n",
       "       [5.08748023e+04, 1.46652372e+08]])"
      ]
     },
     "execution_count": 22,
     "metadata": {},
     "output_type": "execute_result"
    }
   ],
   "source": [
    "np.cov(insurance['age'], insurance['charges'])"
   ]
  },
  {
   "cell_type": "code",
   "execution_count": 23,
   "id": "8c18e87d",
   "metadata": {},
   "outputs": [
    {
     "data": {
      "text/html": [
       "<div>\n",
       "<style scoped>\n",
       "    .dataframe tbody tr th:only-of-type {\n",
       "        vertical-align: middle;\n",
       "    }\n",
       "\n",
       "    .dataframe tbody tr th {\n",
       "        vertical-align: top;\n",
       "    }\n",
       "\n",
       "    .dataframe thead th {\n",
       "        text-align: right;\n",
       "    }\n",
       "</style>\n",
       "<table border=\"1\" class=\"dataframe\">\n",
       "  <thead>\n",
       "    <tr style=\"text-align: right;\">\n",
       "      <th></th>\n",
       "      <th>age</th>\n",
       "      <th>charges</th>\n",
       "    </tr>\n",
       "  </thead>\n",
       "  <tbody>\n",
       "    <tr>\n",
       "      <th>age</th>\n",
       "      <td>1.000000</td>\n",
       "      <td>0.299008</td>\n",
       "    </tr>\n",
       "    <tr>\n",
       "      <th>charges</th>\n",
       "      <td>0.299008</td>\n",
       "      <td>1.000000</td>\n",
       "    </tr>\n",
       "  </tbody>\n",
       "</table>\n",
       "</div>"
      ],
      "text/plain": [
       "              age   charges\n",
       "age      1.000000  0.299008\n",
       "charges  0.299008  1.000000"
      ]
     },
     "execution_count": 23,
     "metadata": {},
     "output_type": "execute_result"
    }
   ],
   "source": [
    "insurance[['age', 'charges']].corr()"
   ]
  },
  {
   "cell_type": "markdown",
   "id": "e99b8be4",
   "metadata": {},
   "source": [
    "# 5. Statistical Test"
   ]
  },
  {
   "cell_type": "markdown",
   "id": "9dc84124",
   "metadata": {},
   "source": [
    "## Male smoker proportion is higher than female smoker proportion"
   ]
  },
  {
   "cell_type": "code",
   "execution_count": 24,
   "id": "fc96e7c5",
   "metadata": {},
   "outputs": [
    {
     "data": {
      "text/html": [
       "<div>\n",
       "<style scoped>\n",
       "    .dataframe tbody tr th:only-of-type {\n",
       "        vertical-align: middle;\n",
       "    }\n",
       "\n",
       "    .dataframe tbody tr th {\n",
       "        vertical-align: top;\n",
       "    }\n",
       "\n",
       "    .dataframe thead th {\n",
       "        text-align: right;\n",
       "    }\n",
       "</style>\n",
       "<table border=\"1\" class=\"dataframe\">\n",
       "  <thead>\n",
       "    <tr style=\"text-align: right;\">\n",
       "      <th>smoker</th>\n",
       "      <th>no</th>\n",
       "      <th>yes</th>\n",
       "      <th>All</th>\n",
       "    </tr>\n",
       "    <tr>\n",
       "      <th>sex</th>\n",
       "      <th></th>\n",
       "      <th></th>\n",
       "      <th></th>\n",
       "    </tr>\n",
       "  </thead>\n",
       "  <tbody>\n",
       "    <tr>\n",
       "      <th>female</th>\n",
       "      <td>547</td>\n",
       "      <td>115</td>\n",
       "      <td>662</td>\n",
       "    </tr>\n",
       "    <tr>\n",
       "      <th>male</th>\n",
       "      <td>517</td>\n",
       "      <td>159</td>\n",
       "      <td>676</td>\n",
       "    </tr>\n",
       "    <tr>\n",
       "      <th>All</th>\n",
       "      <td>1064</td>\n",
       "      <td>274</td>\n",
       "      <td>1338</td>\n",
       "    </tr>\n",
       "  </tbody>\n",
       "</table>\n",
       "</div>"
      ],
      "text/plain": [
       "smoker    no  yes   All\n",
       "sex                    \n",
       "female   547  115   662\n",
       "male     517  159   676\n",
       "All     1064  274  1338"
      ]
     },
     "execution_count": 24,
     "metadata": {},
     "output_type": "execute_result"
    }
   ],
   "source": [
    "sex_smoker = pd.pivot_table(insurance, index = 'sex', columns = 'smoker', values = 'charges', aggfunc='count', margins = True)\n",
    "sex_smoker"
   ]
  },
  {
   "cell_type": "markdown",
   "id": "5d640eaa",
   "metadata": {},
   "source": [
    "For proportion, we will use two sample z test"
   ]
  },
  {
   "cell_type": "markdown",
   "id": "2a4ee379",
   "metadata": {},
   "source": [
    "With level of significance = 0.05"
   ]
  },
  {
   "cell_type": "code",
   "execution_count": 25,
   "id": "5c8bd7c7",
   "metadata": {},
   "outputs": [
    {
     "name": "stdout",
     "output_type": "stream",
     "text": [
      "1.6448536269514722\n"
     ]
    }
   ],
   "source": [
    "z_critical = stats.norm.ppf(1-0.05)\n",
    "print(z_critical)"
   ]
  },
  {
   "cell_type": "markdown",
   "id": "1af5dec0",
   "metadata": {},
   "source": [
    "#### H0: Proportion of Male Smoker <= Proportion of Female Smoker"
   ]
  },
  {
   "cell_type": "markdown",
   "id": "12388b0b",
   "metadata": {},
   "source": [
    "#### H1: Proportion of Male Smoker > Proportion of Female Smoker"
   ]
  },
  {
   "cell_type": "code",
   "execution_count": 26,
   "id": "c6ede17c",
   "metadata": {},
   "outputs": [],
   "source": [
    "number_of_smoker = np.array([159, 115])\n",
    "total_each_sex = np.array([676, 662])"
   ]
  },
  {
   "cell_type": "code",
   "execution_count": 27,
   "id": "85201251",
   "metadata": {},
   "outputs": [
    {
     "name": "stdout",
     "output_type": "stream",
     "text": [
      "Z value = 2.7867402154855503\n",
      "p-value =  0.002662057082160266\n"
     ]
    }
   ],
   "source": [
    "(z_sex_smoker, p_sex) = smprop.proportions_ztest(number_of_smoker, total_each_sex, alternative = 'larger')\n",
    "print('Z value =', z_sex_smoker)\n",
    "print('p-value = ', p_sex)"
   ]
  },
  {
   "cell_type": "markdown",
   "id": "98fa92b1",
   "metadata": {},
   "source": [
    "### H0 is rejected, conclusion: Proportion of Male Smoker is higher than proportion of Female Smoker"
   ]
  },
  {
   "cell_type": "markdown",
   "id": "f96dd09e",
   "metadata": {},
   "source": [
    "## Charged Bill for Male is Higher Than Female"
   ]
  },
  {
   "cell_type": "markdown",
   "id": "801369e9",
   "metadata": {},
   "source": [
    "#### H0: Charged Bill for Male <= Charged Bill for Female"
   ]
  },
  {
   "cell_type": "markdown",
   "id": "0c55206c",
   "metadata": {},
   "source": [
    "#### H1: Charged Bill for Male > Charged Bill for Female"
   ]
  },
  {
   "cell_type": "code",
   "execution_count": 28,
   "id": "8d92a8b6",
   "metadata": {},
   "outputs": [],
   "source": [
    "male_sample = insurance[insurance['sex'] == 'male']\n",
    "male_sample.reset_index(inplace = True)\n",
    "male_list = male_sample['charges'].tolist()\n",
    "n_male = len(male_list)"
   ]
  },
  {
   "cell_type": "code",
   "execution_count": 29,
   "id": "779777a7",
   "metadata": {},
   "outputs": [],
   "source": [
    "female_sample = insurance[insurance['sex'] == 'female']\n",
    "female_sample.reset_index(inplace = True)\n",
    "female_list = female_sample['charges'].tolist()\n",
    "n_female = len(female_list)"
   ]
  },
  {
   "cell_type": "code",
   "execution_count": 46,
   "id": "87b81452",
   "metadata": {},
   "outputs": [
    {
     "name": "stdout",
     "output_type": "stream",
     "text": [
      "Mean charge for male customer:  13956.751177721893\n",
      "Mean charge for female customer:  12569.578843835347\n"
     ]
    }
   ],
   "source": [
    "print('Mean charge for male customer: ', np.mean(male_list))\n",
    "print('Mean charge for female customer: ', np.mean(female_list))"
   ]
  },
  {
   "cell_type": "code",
   "execution_count": 31,
   "id": "1392ee75",
   "metadata": {},
   "outputs": [
    {
     "name": "stdout",
     "output_type": "stream",
     "text": [
      "t value = 2.097546590051688\n",
      "p-value =  0.01806636050296488\n"
     ]
    }
   ],
   "source": [
    "(t_sex_charge, p_sex_charge) = stats.ttest_ind(male_list, female_list, nan_policy='raise', alternative='greater')\n",
    "print('t value =', t_sex_charge)\n",
    "print('p-value = ', p_sex_charge)"
   ]
  },
  {
   "cell_type": "code",
   "execution_count": 32,
   "id": "2a3c9b0d",
   "metadata": {},
   "outputs": [],
   "source": [
    "dof_male_female = len(male_list) + len(female_list) - 2"
   ]
  },
  {
   "cell_type": "code",
   "execution_count": 33,
   "id": "46b9bd8b",
   "metadata": {},
   "outputs": [
    {
     "name": "stdout",
     "output_type": "stream",
     "text": [
      "1.6459949688112576\n"
     ]
    }
   ],
   "source": [
    "t_critical_malefemale = stats.t.ppf(1-0.05,dof_male_female)\n",
    "print(t_critical_malefemale)"
   ]
  },
  {
   "cell_type": "markdown",
   "id": "5c5e9c99",
   "metadata": {},
   "source": [
    "t value = 2.09 is higher than t critical 1.65"
   ]
  },
  {
   "cell_type": "markdown",
   "id": "da9b2e3c",
   "metadata": {},
   "source": [
    "### H0 is rejected, conclusion: Charged Bill for Male > Charged Bill for Female"
   ]
  },
  {
   "cell_type": "markdown",
   "id": "f2e662b4",
   "metadata": {},
   "source": [
    "## Charged Bill for Overweight people is Higher than Normal People"
   ]
  },
  {
   "cell_type": "markdown",
   "id": "b4bbe831",
   "metadata": {},
   "source": [
    "#### H0: Mean Charged Bill for Overweight <= Mean Charged Bill for Normal"
   ]
  },
  {
   "cell_type": "markdown",
   "id": "d17ceb29",
   "metadata": {},
   "source": [
    "#### H1: Mean Charged Bill for Overweight > Mean Charged Bill for Normal"
   ]
  },
  {
   "cell_type": "code",
   "execution_count": 49,
   "id": "622c2a59",
   "metadata": {},
   "outputs": [],
   "source": [
    "overweight_sample = insurance[insurance['bmi'] >= 25]\n",
    "overweight_sample.reset_index(inplace = True)\n",
    "overweight_list = overweight_sample['charges'].tolist()\n",
    "n_overweight = len(overweight_list)"
   ]
  },
  {
   "cell_type": "code",
   "execution_count": 50,
   "id": "e5de5f6f",
   "metadata": {},
   "outputs": [],
   "source": [
    "normalweight_sample = insurance[insurance['bmi'] < 25]\n",
    "normalweight_sample.reset_index(inplace = True)\n",
    "normalweight_list = normalweight_sample['charges'].tolist()\n",
    "n_normalweight = len(normalweight_list)"
   ]
  },
  {
   "cell_type": "code",
   "execution_count": 51,
   "id": "b89503f3",
   "metadata": {},
   "outputs": [
    {
     "name": "stdout",
     "output_type": "stream",
     "text": [
      "Mean charge for overweight customer:  13940.237872405307\n",
      "Mean charge for normal customer:  10282.224474367347\n"
     ]
    }
   ],
   "source": [
    "print('Mean charge for overweight customer: ',np.mean(overweight_list))\n",
    "print('Mean charge for normal customer: ',np.mean(normalweight_list))"
   ]
  },
  {
   "cell_type": "code",
   "execution_count": 52,
   "id": "325f230c",
   "metadata": {},
   "outputs": [
    {
     "name": "stdout",
     "output_type": "stream",
     "text": [
      "t value = 4.301200277037612\n",
      "p-value =  9.111530471784549e-06\n"
     ]
    }
   ],
   "source": [
    "(t_weight_charge, p_weight_charge) = stats.ttest_ind(overweight_list, normalweight_list, nan_policy='raise', alternative='greater')\n",
    "print('t value =', t_weight_charge)\n",
    "print('p-value = ', p_weight_charge)"
   ]
  },
  {
   "cell_type": "code",
   "execution_count": 53,
   "id": "630e7bfb",
   "metadata": {},
   "outputs": [],
   "source": [
    "dof_weight = len(overweight_list) + len(normalweight_list) - 2"
   ]
  },
  {
   "cell_type": "code",
   "execution_count": 54,
   "id": "9b61d127",
   "metadata": {},
   "outputs": [
    {
     "name": "stdout",
     "output_type": "stream",
     "text": [
      "1.6459949688112576\n"
     ]
    }
   ],
   "source": [
    "t_critical_weight = stats.t.ppf(1-0.05,dof_weight)\n",
    "print(t_critical_weight)"
   ]
  },
  {
   "cell_type": "markdown",
   "id": "00ea3bd8",
   "metadata": {},
   "source": [
    "t value = 2.09 is higher than t critical 1.65"
   ]
  },
  {
   "cell_type": "markdown",
   "id": "3089b80c",
   "metadata": {},
   "source": [
    "## H0 is rejected, conclusion: Charged Bill for Overweight > Charged Bill for Normal People"
   ]
  },
  {
   "cell_type": "markdown",
   "id": "ef300722",
   "metadata": {},
   "source": [
    "## Charged Bill for Non Smoker is Lower Than Smoker"
   ]
  },
  {
   "cell_type": "markdown",
   "id": "18e21953",
   "metadata": {},
   "source": [
    "#### H0: Charged Bill for Non Smoker => Charged Bill for Smoker"
   ]
  },
  {
   "cell_type": "markdown",
   "id": "ef3ab6a8",
   "metadata": {},
   "source": [
    "#### H1: Charged Bill for Non Smoker < Charged Bill for Smoker"
   ]
  },
  {
   "cell_type": "code",
   "execution_count": 40,
   "id": "841a9baa",
   "metadata": {},
   "outputs": [],
   "source": [
    "nonsmoker_sample = insurance[insurance['smoker'] == 'no']\n",
    "nonsmoker_sample.reset_index(inplace = True)\n",
    "nonsmoker_list = nonsmoker_sample['charges'].tolist()\n",
    "n_nonsmoker = len(nonsmoker_list)"
   ]
  },
  {
   "cell_type": "code",
   "execution_count": 41,
   "id": "b3c2c7a5",
   "metadata": {},
   "outputs": [],
   "source": [
    "smoker_sample = insurance[insurance['smoker'] == 'yes']\n",
    "smoker_sample.reset_index(inplace = True)\n",
    "smoker_list = smoker_sample['charges'].tolist()\n",
    "n_smoker = len(smoker_list)"
   ]
  },
  {
   "cell_type": "code",
   "execution_count": 60,
   "id": "be838765",
   "metadata": {},
   "outputs": [
    {
     "name": "stdout",
     "output_type": "stream",
     "text": [
      "Mean charge for nonsmoker customer:  8434.268297856204\n",
      "Mean charge for smoker customer:  32050.23183153284\n"
     ]
    }
   ],
   "source": [
    "print('Mean charge for nonsmoker customer: ',np.mean(nonsmoker_list))\n",
    "print('Mean charge for smoker customer: ',np.mean(smoker_list))"
   ]
  },
  {
   "cell_type": "code",
   "execution_count": 43,
   "id": "c5c7bdb8",
   "metadata": {},
   "outputs": [
    {
     "name": "stdout",
     "output_type": "stream",
     "text": [
      "t value = -46.66492117272371\n",
      "p-value =  4.135717921089551e-283\n"
     ]
    }
   ],
   "source": [
    "(t_smoker_charge, p_smoker_charge) = stats.ttest_ind(nonsmoker_list, smoker_list, nan_policy='raise', alternative='less')\n",
    "print('t value =', t_smoker_charge)\n",
    "print('p-value = ', p_smoker_charge)"
   ]
  },
  {
   "cell_type": "code",
   "execution_count": 44,
   "id": "ae031965",
   "metadata": {},
   "outputs": [],
   "source": [
    "dof_smoker = len(nonsmoker_list) + len(smoker_list) - 2"
   ]
  },
  {
   "cell_type": "code",
   "execution_count": 45,
   "id": "8a2caca1",
   "metadata": {},
   "outputs": [
    {
     "name": "stdout",
     "output_type": "stream",
     "text": [
      "-1.6459949688112583\n"
     ]
    }
   ],
   "source": [
    "t_critical_smoker = stats.t.ppf(0.05,dof_smoker)\n",
    "print(t_critical_smoker)"
   ]
  },
  {
   "cell_type": "markdown",
   "id": "30bd2061",
   "metadata": {},
   "source": [
    "t value = -46.7 is lower than t critical -1.65"
   ]
  },
  {
   "cell_type": "markdown",
   "id": "d591bf8a",
   "metadata": {},
   "source": [
    "### H0 is rejected, conclusion: Charged Bill for Non Smoker < Charged Bill for Smoker"
   ]
  }
 ],
 "metadata": {
  "kernelspec": {
   "display_name": "Python 3 (ipykernel)",
   "language": "python",
   "name": "python3"
  },
  "language_info": {
   "codemirror_mode": {
    "name": "ipython",
    "version": 3
   },
   "file_extension": ".py",
   "mimetype": "text/x-python",
   "name": "python",
   "nbconvert_exporter": "python",
   "pygments_lexer": "ipython3",
   "version": "3.10.9"
  }
 },
 "nbformat": 4,
 "nbformat_minor": 5
}
